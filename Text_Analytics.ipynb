{
  "nbformat": 4,
  "nbformat_minor": 0,
  "metadata": {
    "colab": {
      "name": "Text Analytics.ipynb",
      "provenance": [],
      "include_colab_link": true
    },
    "kernelspec": {
      "name": "python3",
      "display_name": "Python 3"
    }
  },
  "cells": [
    {
      "cell_type": "markdown",
      "metadata": {
        "id": "view-in-github",
        "colab_type": "text"
      },
      "source": [
        "<a href=\"https://colab.research.google.com/github/marsgav/indeedjobpostings/blob/master/Text_Analytics.ipynb\" target=\"_parent\"><img src=\"https://colab.research.google.com/assets/colab-badge.svg\" alt=\"Open In Colab\"/></a>"
      ]
    },
    {
      "cell_type": "markdown",
      "metadata": {
        "id": "FL6aLF52rzGC"
      },
      "source": [
        "# Text Data"
      ]
    },
    {
      "cell_type": "code",
      "metadata": {
        "id": "DqyRXkPsjIwg"
      },
      "source": [
        "text = \"India, officially the Republic of India is a country in South Asia. It is the second-most populous country, the seventh-largest country by land area, and the most populous democracy in the world. Bounded by the Indian Ocean on the south, the Arabian Sea on the southwest, and the Bay of Bengal on the southeast, it shares land borders with Pakistan to the west; China, Nepal, and Bhutan to the north; and Bangladesh and Myanmar to the east.\""
      ],
      "execution_count": null,
      "outputs": []
    },
    {
      "cell_type": "markdown",
      "metadata": {
        "id": "aXN510OCr2ZT"
      },
      "source": [
        "# Length of the text"
      ]
    },
    {
      "cell_type": "code",
      "metadata": {
        "id": "G8p4IdgsqxGm",
        "outputId": "e346e9e8-6a6f-458b-b51a-dd406ff9fd1b",
        "colab": {
          "base_uri": "https://localhost:8080/",
          "height": 35
        }
      },
      "source": [
        "len(text)"
      ],
      "execution_count": null,
      "outputs": [
        {
          "output_type": "execute_result",
          "data": {
            "text/plain": [
              "440"
            ]
          },
          "metadata": {
            "tags": []
          },
          "execution_count": 2
        }
      ]
    },
    {
      "cell_type": "markdown",
      "metadata": {
        "id": "GyaZhU1Ar53c"
      },
      "source": [
        "#Loading NLTK"
      ]
    },
    {
      "cell_type": "code",
      "metadata": {
        "id": "YlOUJBFwrH6e"
      },
      "source": [
        "import nltk"
      ],
      "execution_count": null,
      "outputs": []
    },
    {
      "cell_type": "code",
      "metadata": {
        "id": "B7ysgKZ1rgdn",
        "outputId": "35812868-6088-41d9-d61a-a11b9c719877",
        "colab": {
          "base_uri": "https://localhost:8080/",
          "height": 68
        }
      },
      "source": [
        "nltk.download('punkt')"
      ],
      "execution_count": null,
      "outputs": [
        {
          "output_type": "stream",
          "text": [
            "[nltk_data] Downloading package punkt to /root/nltk_data...\n",
            "[nltk_data]   Unzipping tokenizers/punkt.zip.\n"
          ],
          "name": "stdout"
        },
        {
          "output_type": "execute_result",
          "data": {
            "text/plain": [
              "True"
            ]
          },
          "metadata": {
            "tags": []
          },
          "execution_count": 4
        }
      ]
    },
    {
      "cell_type": "markdown",
      "metadata": {
        "id": "HLmglLCir_jV"
      },
      "source": [
        "#Tokenizing text"
      ]
    },
    {
      "cell_type": "code",
      "metadata": {
        "id": "TNRthFYxtkxg",
        "outputId": "ad1267f6-dc43-4d13-fc7d-03c5ad4bcfab",
        "colab": {
          "base_uri": "https://localhost:8080/",
          "height": 1000
        }
      },
      "source": [
        "text.split()"
      ],
      "execution_count": null,
      "outputs": [
        {
          "output_type": "execute_result",
          "data": {
            "text/plain": [
              "['India,',\n",
              " 'officially',\n",
              " 'the',\n",
              " 'Republic',\n",
              " 'of',\n",
              " 'India',\n",
              " 'is',\n",
              " 'a',\n",
              " 'country',\n",
              " 'in',\n",
              " 'South',\n",
              " 'Asia.',\n",
              " 'It',\n",
              " 'is',\n",
              " 'the',\n",
              " 'second-most',\n",
              " 'populous',\n",
              " 'country,',\n",
              " 'the',\n",
              " 'seventh-largest',\n",
              " 'country',\n",
              " 'by',\n",
              " 'land',\n",
              " 'area,',\n",
              " 'and',\n",
              " 'the',\n",
              " 'most',\n",
              " 'populous',\n",
              " 'democracy',\n",
              " 'in',\n",
              " 'the',\n",
              " 'world.',\n",
              " 'Bounded',\n",
              " 'by',\n",
              " 'the',\n",
              " 'Indian',\n",
              " 'Ocean',\n",
              " 'on',\n",
              " 'the',\n",
              " 'south,',\n",
              " 'the',\n",
              " 'Arabian',\n",
              " 'Sea',\n",
              " 'on',\n",
              " 'the',\n",
              " 'southwest,',\n",
              " 'and',\n",
              " 'the',\n",
              " 'Bay',\n",
              " 'of',\n",
              " 'Bengal',\n",
              " 'on',\n",
              " 'the',\n",
              " 'southeast,',\n",
              " 'it',\n",
              " 'shares',\n",
              " 'land',\n",
              " 'borders',\n",
              " 'with',\n",
              " 'Pakistan',\n",
              " 'to',\n",
              " 'the',\n",
              " 'west;',\n",
              " 'China,',\n",
              " 'Nepal,',\n",
              " 'and',\n",
              " 'Bhutan',\n",
              " 'to',\n",
              " 'the',\n",
              " 'north;',\n",
              " 'and',\n",
              " 'Bangladesh',\n",
              " 'and',\n",
              " 'Myanmar',\n",
              " 'to',\n",
              " 'the',\n",
              " 'east.']"
            ]
          },
          "metadata": {
            "tags": []
          },
          "execution_count": 5
        }
      ]
    },
    {
      "cell_type": "code",
      "metadata": {
        "id": "M2v3M9ZbrVbq"
      },
      "source": [
        "from nltk.tokenize import word_tokenize"
      ],
      "execution_count": null,
      "outputs": []
    },
    {
      "cell_type": "code",
      "metadata": {
        "id": "twKyywLUrbZA"
      },
      "source": [
        "token = word_tokenize(text)"
      ],
      "execution_count": null,
      "outputs": []
    },
    {
      "cell_type": "code",
      "metadata": {
        "id": "i9cyR892rkVR",
        "outputId": "a0b803c1-a202-4c79-e5c0-c707bbbb4157",
        "colab": {
          "base_uri": "https://localhost:8080/",
          "height": 54
        }
      },
      "source": [
        "print(token)"
      ],
      "execution_count": null,
      "outputs": [
        {
          "output_type": "stream",
          "text": [
            "['India', ',', 'officially', 'the', 'Republic', 'of', 'India', 'is', 'a', 'country', 'in', 'South', 'Asia', '.', 'It', 'is', 'the', 'second-most', 'populous', 'country', ',', 'the', 'seventh-largest', 'country', 'by', 'land', 'area', ',', 'and', 'the', 'most', 'populous', 'democracy', 'in', 'the', 'world', '.', 'Bounded', 'by', 'the', 'Indian', 'Ocean', 'on', 'the', 'south', ',', 'the', 'Arabian', 'Sea', 'on', 'the', 'southwest', ',', 'and', 'the', 'Bay', 'of', 'Bengal', 'on', 'the', 'southeast', ',', 'it', 'shares', 'land', 'borders', 'with', 'Pakistan', 'to', 'the', 'west', ';', 'China', ',', 'Nepal', ',', 'and', 'Bhutan', 'to', 'the', 'north', ';', 'and', 'Bangladesh', 'and', 'Myanmar', 'to', 'the', 'east', '.']\n"
          ],
          "name": "stdout"
        }
      ]
    },
    {
      "cell_type": "markdown",
      "metadata": {
        "id": "a41nBFeHsCLT"
      },
      "source": [
        "#Frequency distinct"
      ]
    },
    {
      "cell_type": "code",
      "metadata": {
        "id": "WPtiYUGwroIQ"
      },
      "source": [
        "from nltk.probability import FreqDist"
      ],
      "execution_count": null,
      "outputs": []
    },
    {
      "cell_type": "code",
      "metadata": {
        "id": "KYORqduSsG6P"
      },
      "source": [
        "fdist = FreqDist(token)"
      ],
      "execution_count": null,
      "outputs": []
    },
    {
      "cell_type": "code",
      "metadata": {
        "id": "CAgI_xLNsJhg",
        "outputId": "b3016416-1771-43b9-a35f-93468e3cd887",
        "colab": {
          "base_uri": "https://localhost:8080/",
          "height": 867
        }
      },
      "source": [
        "fdist"
      ],
      "execution_count": null,
      "outputs": [
        {
          "output_type": "execute_result",
          "data": {
            "text/plain": [
              "FreqDist({',': 8,\n",
              "          '.': 3,\n",
              "          ';': 2,\n",
              "          'Arabian': 1,\n",
              "          'Asia': 1,\n",
              "          'Bangladesh': 1,\n",
              "          'Bay': 1,\n",
              "          'Bengal': 1,\n",
              "          'Bhutan': 1,\n",
              "          'Bounded': 1,\n",
              "          'China': 1,\n",
              "          'India': 2,\n",
              "          'Indian': 1,\n",
              "          'It': 1,\n",
              "          'Myanmar': 1,\n",
              "          'Nepal': 1,\n",
              "          'Ocean': 1,\n",
              "          'Pakistan': 1,\n",
              "          'Republic': 1,\n",
              "          'Sea': 1,\n",
              "          'South': 1,\n",
              "          'a': 1,\n",
              "          'and': 5,\n",
              "          'area': 1,\n",
              "          'borders': 1,\n",
              "          'by': 2,\n",
              "          'country': 3,\n",
              "          'democracy': 1,\n",
              "          'east': 1,\n",
              "          'in': 2,\n",
              "          'is': 2,\n",
              "          'it': 1,\n",
              "          'land': 2,\n",
              "          'most': 1,\n",
              "          'north': 1,\n",
              "          'of': 2,\n",
              "          'officially': 1,\n",
              "          'on': 3,\n",
              "          'populous': 2,\n",
              "          'second-most': 1,\n",
              "          'seventh-largest': 1,\n",
              "          'shares': 1,\n",
              "          'south': 1,\n",
              "          'southeast': 1,\n",
              "          'southwest': 1,\n",
              "          'the': 14,\n",
              "          'to': 3,\n",
              "          'west': 1,\n",
              "          'with': 1,\n",
              "          'world': 1})"
            ]
          },
          "metadata": {
            "tags": []
          },
          "execution_count": 11
        }
      ]
    },
    {
      "cell_type": "markdown",
      "metadata": {
        "id": "O4m4ORu0sRn2"
      },
      "source": [
        "#Most Common"
      ]
    },
    {
      "cell_type": "code",
      "metadata": {
        "id": "sg7Z-f3ysNaf"
      },
      "source": [
        "fdist1 = fdist.most_common(5)"
      ],
      "execution_count": null,
      "outputs": []
    },
    {
      "cell_type": "code",
      "metadata": {
        "id": "eK1y5mf-sVHJ",
        "outputId": "85980281-ca2b-49de-835d-36014bcde542",
        "colab": {
          "base_uri": "https://localhost:8080/",
          "height": 34
        }
      },
      "source": [
        "fdist1"
      ],
      "execution_count": null,
      "outputs": [
        {
          "output_type": "execute_result",
          "data": {
            "text/plain": [
              "[('the', 14), (',', 8), ('and', 5), ('country', 3), ('.', 3)]"
            ]
          },
          "metadata": {
            "tags": []
          },
          "execution_count": 13
        }
      ]
    },
    {
      "cell_type": "markdown",
      "metadata": {
        "id": "G_FN7yjXttMW"
      },
      "source": [
        "#N-Grams"
      ]
    },
    {
      "cell_type": "code",
      "metadata": {
        "id": "bk6DfVc8uc28"
      },
      "source": [
        "from textblob import TextBlob"
      ],
      "execution_count": null,
      "outputs": []
    },
    {
      "cell_type": "code",
      "metadata": {
        "id": "toC4fhUVufMK",
        "outputId": "3dfaa02b-44fc-479e-f57b-b58996b33303",
        "colab": {
          "base_uri": "https://localhost:8080/",
          "height": 1000
        }
      },
      "source": [
        "TextBlob(text).ngrams(10)"
      ],
      "execution_count": null,
      "outputs": [
        {
          "output_type": "execute_result",
          "data": {
            "text/plain": [
              "[WordList(['India', 'officially', 'the', 'Republic', 'of', 'India', 'is', 'a', 'country', 'in']),\n",
              " WordList(['officially', 'the', 'Republic', 'of', 'India', 'is', 'a', 'country', 'in', 'South']),\n",
              " WordList(['the', 'Republic', 'of', 'India', 'is', 'a', 'country', 'in', 'South', 'Asia']),\n",
              " WordList(['Republic', 'of', 'India', 'is', 'a', 'country', 'in', 'South', 'Asia', 'It']),\n",
              " WordList(['of', 'India', 'is', 'a', 'country', 'in', 'South', 'Asia', 'It', 'is']),\n",
              " WordList(['India', 'is', 'a', 'country', 'in', 'South', 'Asia', 'It', 'is', 'the']),\n",
              " WordList(['is', 'a', 'country', 'in', 'South', 'Asia', 'It', 'is', 'the', 'second-most']),\n",
              " WordList(['a', 'country', 'in', 'South', 'Asia', 'It', 'is', 'the', 'second-most', 'populous']),\n",
              " WordList(['country', 'in', 'South', 'Asia', 'It', 'is', 'the', 'second-most', 'populous', 'country']),\n",
              " WordList(['in', 'South', 'Asia', 'It', 'is', 'the', 'second-most', 'populous', 'country', 'the']),\n",
              " WordList(['South', 'Asia', 'It', 'is', 'the', 'second-most', 'populous', 'country', 'the', 'seventh-largest']),\n",
              " WordList(['Asia', 'It', 'is', 'the', 'second-most', 'populous', 'country', 'the', 'seventh-largest', 'country']),\n",
              " WordList(['It', 'is', 'the', 'second-most', 'populous', 'country', 'the', 'seventh-largest', 'country', 'by']),\n",
              " WordList(['is', 'the', 'second-most', 'populous', 'country', 'the', 'seventh-largest', 'country', 'by', 'land']),\n",
              " WordList(['the', 'second-most', 'populous', 'country', 'the', 'seventh-largest', 'country', 'by', 'land', 'area']),\n",
              " WordList(['second-most', 'populous', 'country', 'the', 'seventh-largest', 'country', 'by', 'land', 'area', 'and']),\n",
              " WordList(['populous', 'country', 'the', 'seventh-largest', 'country', 'by', 'land', 'area', 'and', 'the']),\n",
              " WordList(['country', 'the', 'seventh-largest', 'country', 'by', 'land', 'area', 'and', 'the', 'most']),\n",
              " WordList(['the', 'seventh-largest', 'country', 'by', 'land', 'area', 'and', 'the', 'most', 'populous']),\n",
              " WordList(['seventh-largest', 'country', 'by', 'land', 'area', 'and', 'the', 'most', 'populous', 'democracy']),\n",
              " WordList(['country', 'by', 'land', 'area', 'and', 'the', 'most', 'populous', 'democracy', 'in']),\n",
              " WordList(['by', 'land', 'area', 'and', 'the', 'most', 'populous', 'democracy', 'in', 'the']),\n",
              " WordList(['land', 'area', 'and', 'the', 'most', 'populous', 'democracy', 'in', 'the', 'world']),\n",
              " WordList(['area', 'and', 'the', 'most', 'populous', 'democracy', 'in', 'the', 'world', 'Bounded']),\n",
              " WordList(['and', 'the', 'most', 'populous', 'democracy', 'in', 'the', 'world', 'Bounded', 'by']),\n",
              " WordList(['the', 'most', 'populous', 'democracy', 'in', 'the', 'world', 'Bounded', 'by', 'the']),\n",
              " WordList(['most', 'populous', 'democracy', 'in', 'the', 'world', 'Bounded', 'by', 'the', 'Indian']),\n",
              " WordList(['populous', 'democracy', 'in', 'the', 'world', 'Bounded', 'by', 'the', 'Indian', 'Ocean']),\n",
              " WordList(['democracy', 'in', 'the', 'world', 'Bounded', 'by', 'the', 'Indian', 'Ocean', 'on']),\n",
              " WordList(['in', 'the', 'world', 'Bounded', 'by', 'the', 'Indian', 'Ocean', 'on', 'the']),\n",
              " WordList(['the', 'world', 'Bounded', 'by', 'the', 'Indian', 'Ocean', 'on', 'the', 'south']),\n",
              " WordList(['world', 'Bounded', 'by', 'the', 'Indian', 'Ocean', 'on', 'the', 'south', 'the']),\n",
              " WordList(['Bounded', 'by', 'the', 'Indian', 'Ocean', 'on', 'the', 'south', 'the', 'Arabian']),\n",
              " WordList(['by', 'the', 'Indian', 'Ocean', 'on', 'the', 'south', 'the', 'Arabian', 'Sea']),\n",
              " WordList(['the', 'Indian', 'Ocean', 'on', 'the', 'south', 'the', 'Arabian', 'Sea', 'on']),\n",
              " WordList(['Indian', 'Ocean', 'on', 'the', 'south', 'the', 'Arabian', 'Sea', 'on', 'the']),\n",
              " WordList(['Ocean', 'on', 'the', 'south', 'the', 'Arabian', 'Sea', 'on', 'the', 'southwest']),\n",
              " WordList(['on', 'the', 'south', 'the', 'Arabian', 'Sea', 'on', 'the', 'southwest', 'and']),\n",
              " WordList(['the', 'south', 'the', 'Arabian', 'Sea', 'on', 'the', 'southwest', 'and', 'the']),\n",
              " WordList(['south', 'the', 'Arabian', 'Sea', 'on', 'the', 'southwest', 'and', 'the', 'Bay']),\n",
              " WordList(['the', 'Arabian', 'Sea', 'on', 'the', 'southwest', 'and', 'the', 'Bay', 'of']),\n",
              " WordList(['Arabian', 'Sea', 'on', 'the', 'southwest', 'and', 'the', 'Bay', 'of', 'Bengal']),\n",
              " WordList(['Sea', 'on', 'the', 'southwest', 'and', 'the', 'Bay', 'of', 'Bengal', 'on']),\n",
              " WordList(['on', 'the', 'southwest', 'and', 'the', 'Bay', 'of', 'Bengal', 'on', 'the']),\n",
              " WordList(['the', 'southwest', 'and', 'the', 'Bay', 'of', 'Bengal', 'on', 'the', 'southeast']),\n",
              " WordList(['southwest', 'and', 'the', 'Bay', 'of', 'Bengal', 'on', 'the', 'southeast', 'it']),\n",
              " WordList(['and', 'the', 'Bay', 'of', 'Bengal', 'on', 'the', 'southeast', 'it', 'shares']),\n",
              " WordList(['the', 'Bay', 'of', 'Bengal', 'on', 'the', 'southeast', 'it', 'shares', 'land']),\n",
              " WordList(['Bay', 'of', 'Bengal', 'on', 'the', 'southeast', 'it', 'shares', 'land', 'borders']),\n",
              " WordList(['of', 'Bengal', 'on', 'the', 'southeast', 'it', 'shares', 'land', 'borders', 'with']),\n",
              " WordList(['Bengal', 'on', 'the', 'southeast', 'it', 'shares', 'land', 'borders', 'with', 'Pakistan']),\n",
              " WordList(['on', 'the', 'southeast', 'it', 'shares', 'land', 'borders', 'with', 'Pakistan', 'to']),\n",
              " WordList(['the', 'southeast', 'it', 'shares', 'land', 'borders', 'with', 'Pakistan', 'to', 'the']),\n",
              " WordList(['southeast', 'it', 'shares', 'land', 'borders', 'with', 'Pakistan', 'to', 'the', 'west']),\n",
              " WordList(['it', 'shares', 'land', 'borders', 'with', 'Pakistan', 'to', 'the', 'west', 'China']),\n",
              " WordList(['shares', 'land', 'borders', 'with', 'Pakistan', 'to', 'the', 'west', 'China', 'Nepal']),\n",
              " WordList(['land', 'borders', 'with', 'Pakistan', 'to', 'the', 'west', 'China', 'Nepal', 'and']),\n",
              " WordList(['borders', 'with', 'Pakistan', 'to', 'the', 'west', 'China', 'Nepal', 'and', 'Bhutan']),\n",
              " WordList(['with', 'Pakistan', 'to', 'the', 'west', 'China', 'Nepal', 'and', 'Bhutan', 'to']),\n",
              " WordList(['Pakistan', 'to', 'the', 'west', 'China', 'Nepal', 'and', 'Bhutan', 'to', 'the']),\n",
              " WordList(['to', 'the', 'west', 'China', 'Nepal', 'and', 'Bhutan', 'to', 'the', 'north']),\n",
              " WordList(['the', 'west', 'China', 'Nepal', 'and', 'Bhutan', 'to', 'the', 'north', 'and']),\n",
              " WordList(['west', 'China', 'Nepal', 'and', 'Bhutan', 'to', 'the', 'north', 'and', 'Bangladesh']),\n",
              " WordList(['China', 'Nepal', 'and', 'Bhutan', 'to', 'the', 'north', 'and', 'Bangladesh', 'and']),\n",
              " WordList(['Nepal', 'and', 'Bhutan', 'to', 'the', 'north', 'and', 'Bangladesh', 'and', 'Myanmar']),\n",
              " WordList(['and', 'Bhutan', 'to', 'the', 'north', 'and', 'Bangladesh', 'and', 'Myanmar', 'to']),\n",
              " WordList(['Bhutan', 'to', 'the', 'north', 'and', 'Bangladesh', 'and', 'Myanmar', 'to', 'the']),\n",
              " WordList(['to', 'the', 'north', 'and', 'Bangladesh', 'and', 'Myanmar', 'to', 'the', 'east'])]"
            ]
          },
          "metadata": {
            "tags": []
          },
          "execution_count": 17
        }
      ]
    },
    {
      "cell_type": "markdown",
      "metadata": {
        "id": "8I-e_vIYwyns"
      },
      "source": [
        "#Stemming"
      ]
    },
    {
      "cell_type": "code",
      "metadata": {
        "id": "cinkCfSWww03"
      },
      "source": [
        "from nltk.stem import PorterStemmer"
      ],
      "execution_count": null,
      "outputs": []
    },
    {
      "cell_type": "code",
      "metadata": {
        "id": "p-EhA_ZXw9Kg"
      },
      "source": [
        "pst = PorterStemmer()"
      ],
      "execution_count": null,
      "outputs": []
    },
    {
      "cell_type": "code",
      "metadata": {
        "id": "qrCs2KwHxAFl",
        "outputId": "16a3790a-838d-462a-ec26-b5ae1891c993",
        "colab": {
          "base_uri": "https://localhost:8080/",
          "height": 35
        }
      },
      "source": [
        "pst.stem('sending')"
      ],
      "execution_count": null,
      "outputs": [
        {
          "output_type": "execute_result",
          "data": {
            "application/vnd.google.colaboratory.intrinsic+json": {
              "type": "string"
            },
            "text/plain": [
              "'send'"
            ]
          },
          "metadata": {
            "tags": []
          },
          "execution_count": 20
        }
      ]
    },
    {
      "cell_type": "code",
      "metadata": {
        "id": "aWcGtinCxHds",
        "outputId": "9501c3ca-ede8-4c55-ef93-0a7ceaa838e7",
        "colab": {
          "base_uri": "https://localhost:8080/",
          "height": 35
        }
      },
      "source": [
        "pst.stem('giving')"
      ],
      "execution_count": null,
      "outputs": [
        {
          "output_type": "execute_result",
          "data": {
            "application/vnd.google.colaboratory.intrinsic+json": {
              "type": "string"
            },
            "text/plain": [
              "'give'"
            ]
          },
          "metadata": {
            "tags": []
          },
          "execution_count": 21
        }
      ]
    },
    {
      "cell_type": "code",
      "metadata": {
        "id": "lcc0nU5Sx6xF",
        "outputId": "b173264e-b5be-46c9-a8e4-50da8ee077bd",
        "colab": {
          "base_uri": "https://localhost:8080/",
          "height": 35
        }
      },
      "source": [
        "pst.stem('formulae')"
      ],
      "execution_count": null,
      "outputs": [
        {
          "output_type": "execute_result",
          "data": {
            "application/vnd.google.colaboratory.intrinsic+json": {
              "type": "string"
            },
            "text/plain": [
              "'formula'"
            ]
          },
          "metadata": {
            "tags": []
          },
          "execution_count": 22
        }
      ]
    },
    {
      "cell_type": "code",
      "metadata": {
        "id": "Z0IPghAwyCv1",
        "outputId": "c451a39a-15b1-4d29-f9fa-002e904e0e84",
        "colab": {
          "base_uri": "https://localhost:8080/",
          "height": 35
        }
      },
      "source": [
        "pst.stem('knives')"
      ],
      "execution_count": null,
      "outputs": [
        {
          "output_type": "execute_result",
          "data": {
            "application/vnd.google.colaboratory.intrinsic+json": {
              "type": "string"
            },
            "text/plain": [
              "'knive'"
            ]
          },
          "metadata": {
            "tags": []
          },
          "execution_count": 23
        }
      ]
    },
    {
      "cell_type": "code",
      "metadata": {
        "id": "usUH5dBpxaOA"
      },
      "source": [
        "from nltk.stem import LancasterStemmer"
      ],
      "execution_count": null,
      "outputs": []
    },
    {
      "cell_type": "code",
      "metadata": {
        "id": "N1WsEcCPxdFa"
      },
      "source": [
        "lst = LancasterStemmer()"
      ],
      "execution_count": null,
      "outputs": []
    },
    {
      "cell_type": "code",
      "metadata": {
        "id": "wjOuYhYjxgJ-",
        "outputId": "76c7ca67-58d6-4c16-acb6-d31eced08132",
        "colab": {
          "base_uri": "https://localhost:8080/",
          "height": 35
        }
      },
      "source": [
        "lst.stem('sending')"
      ],
      "execution_count": null,
      "outputs": [
        {
          "output_type": "execute_result",
          "data": {
            "application/vnd.google.colaboratory.intrinsic+json": {
              "type": "string"
            },
            "text/plain": [
              "'send'"
            ]
          },
          "metadata": {
            "tags": []
          },
          "execution_count": 26
        }
      ]
    },
    {
      "cell_type": "code",
      "metadata": {
        "id": "Or_xDKzCxj_1",
        "outputId": "ca28c77e-b5c4-49b9-dceb-d2c99a2d8ad7",
        "colab": {
          "base_uri": "https://localhost:8080/",
          "height": 35
        }
      },
      "source": [
        "lst.stem('giving')"
      ],
      "execution_count": null,
      "outputs": [
        {
          "output_type": "execute_result",
          "data": {
            "application/vnd.google.colaboratory.intrinsic+json": {
              "type": "string"
            },
            "text/plain": [
              "'giv'"
            ]
          },
          "metadata": {
            "tags": []
          },
          "execution_count": 27
        }
      ]
    },
    {
      "cell_type": "code",
      "metadata": {
        "id": "_p8e1vwZyXxl",
        "outputId": "4c026433-b23e-4735-d9df-7e61b6777593",
        "colab": {
          "base_uri": "https://localhost:8080/",
          "height": 35
        }
      },
      "source": [
        "lst.stem('knives')"
      ],
      "execution_count": null,
      "outputs": [
        {
          "output_type": "execute_result",
          "data": {
            "application/vnd.google.colaboratory.intrinsic+json": {
              "type": "string"
            },
            "text/plain": [
              "'kniv'"
            ]
          },
          "metadata": {
            "tags": []
          },
          "execution_count": 28
        }
      ]
    },
    {
      "cell_type": "markdown",
      "metadata": {
        "id": "Zvmhc2KxxuEY"
      },
      "source": [
        "#Lemmatization"
      ]
    },
    {
      "cell_type": "code",
      "metadata": {
        "id": "akhkQ92Zxse6"
      },
      "source": [
        "from nltk.stem import WordNetLemmatizer"
      ],
      "execution_count": null,
      "outputs": []
    },
    {
      "cell_type": "code",
      "metadata": {
        "id": "N4UY5XTfyq-h",
        "outputId": "0aed342a-a5a6-4bbb-efbe-671cb044d416",
        "colab": {
          "base_uri": "https://localhost:8080/",
          "height": 68
        }
      },
      "source": [
        "nltk.download('wordnet')"
      ],
      "execution_count": null,
      "outputs": [
        {
          "output_type": "stream",
          "text": [
            "[nltk_data] Downloading package wordnet to /root/nltk_data...\n",
            "[nltk_data]   Unzipping corpora/wordnet.zip.\n"
          ],
          "name": "stdout"
        },
        {
          "output_type": "execute_result",
          "data": {
            "text/plain": [
              "True"
            ]
          },
          "metadata": {
            "tags": []
          },
          "execution_count": 30
        }
      ]
    },
    {
      "cell_type": "code",
      "metadata": {
        "id": "_9dM7wvAxz5b"
      },
      "source": [
        "lemmatizer = WordNetLemmatizer() "
      ],
      "execution_count": null,
      "outputs": []
    },
    {
      "cell_type": "code",
      "metadata": {
        "id": "kcrhAsctx4W-",
        "outputId": "bbd27f5c-3733-4118-c342-ad5b0a37f796",
        "colab": {
          "base_uri": "https://localhost:8080/",
          "height": 35
        }
      },
      "source": [
        "lemmatizer.lemmatize('knives')"
      ],
      "execution_count": null,
      "outputs": [
        {
          "output_type": "execute_result",
          "data": {
            "application/vnd.google.colaboratory.intrinsic+json": {
              "type": "string"
            },
            "text/plain": [
              "'knife'"
            ]
          },
          "metadata": {
            "tags": []
          },
          "execution_count": 32
        }
      ]
    },
    {
      "cell_type": "markdown",
      "metadata": {
        "id": "FHqlFh-Uy20s"
      },
      "source": [
        "#Stop words"
      ]
    },
    {
      "cell_type": "code",
      "metadata": {
        "id": "0j-ra_jj2j2y"
      },
      "source": [
        "from nltk import word_tokenize\n",
        "from nltk.corpus import stopwords"
      ],
      "execution_count": null,
      "outputs": []
    },
    {
      "cell_type": "code",
      "metadata": {
        "id": "ENZy0hzu2yXs",
        "outputId": "2f90bb03-8d5c-4e73-d3e8-94f50f9f9cc8",
        "colab": {
          "base_uri": "https://localhost:8080/",
          "height": 68
        }
      },
      "source": [
        "nltk.download('stopwords')"
      ],
      "execution_count": null,
      "outputs": [
        {
          "output_type": "stream",
          "text": [
            "[nltk_data] Downloading package stopwords to /root/nltk_data...\n",
            "[nltk_data]   Unzipping corpora/stopwords.zip.\n"
          ],
          "name": "stdout"
        },
        {
          "output_type": "execute_result",
          "data": {
            "text/plain": [
              "True"
            ]
          },
          "metadata": {
            "tags": []
          },
          "execution_count": 34
        }
      ]
    },
    {
      "cell_type": "code",
      "metadata": {
        "id": "IwvGF5Ac2nnp"
      },
      "source": [
        "a = set(stopwords.words('english'))"
      ],
      "execution_count": null,
      "outputs": []
    },
    {
      "cell_type": "code",
      "metadata": {
        "id": "8OWKBGW722um"
      },
      "source": [
        "text1 = word_tokenize(text.lower())"
      ],
      "execution_count": null,
      "outputs": []
    },
    {
      "cell_type": "code",
      "metadata": {
        "id": "xN37fuxh234S",
        "outputId": "26ef10b0-7324-4a19-e056-28419eea0984",
        "colab": {
          "base_uri": "https://localhost:8080/",
          "height": 54
        }
      },
      "source": [
        "print(text1)"
      ],
      "execution_count": null,
      "outputs": [
        {
          "output_type": "stream",
          "text": [
            "['india', ',', 'officially', 'the', 'republic', 'of', 'india', 'is', 'a', 'country', 'in', 'south', 'asia', '.', 'it', 'is', 'the', 'second-most', 'populous', 'country', ',', 'the', 'seventh-largest', 'country', 'by', 'land', 'area', ',', 'and', 'the', 'most', 'populous', 'democracy', 'in', 'the', 'world', '.', 'bounded', 'by', 'the', 'indian', 'ocean', 'on', 'the', 'south', ',', 'the', 'arabian', 'sea', 'on', 'the', 'southwest', ',', 'and', 'the', 'bay', 'of', 'bengal', 'on', 'the', 'southeast', ',', 'it', 'shares', 'land', 'borders', 'with', 'pakistan', 'to', 'the', 'west', ';', 'china', ',', 'nepal', ',', 'and', 'bhutan', 'to', 'the', 'north', ';', 'and', 'bangladesh', 'and', 'myanmar', 'to', 'the', 'east', '.']\n"
          ],
          "name": "stdout"
        }
      ]
    },
    {
      "cell_type": "code",
      "metadata": {
        "id": "A0s6V0y82_8f"
      },
      "source": [
        "stopwords = [x for x in text1 if x not in a]"
      ],
      "execution_count": null,
      "outputs": []
    },
    {
      "cell_type": "code",
      "metadata": {
        "id": "wy_FmVDs3CUF",
        "outputId": "3f08ae44-77a7-4b40-d5f7-355bf0d2016d",
        "colab": {
          "base_uri": "https://localhost:8080/",
          "height": 54
        }
      },
      "source": [
        "print(stopwords)"
      ],
      "execution_count": null,
      "outputs": [
        {
          "output_type": "stream",
          "text": [
            "['india', ',', 'officially', 'republic', 'india', 'country', 'south', 'asia', '.', 'second-most', 'populous', 'country', ',', 'seventh-largest', 'country', 'land', 'area', ',', 'populous', 'democracy', 'world', '.', 'bounded', 'indian', 'ocean', 'south', ',', 'arabian', 'sea', 'southwest', ',', 'bay', 'bengal', 'southeast', ',', 'shares', 'land', 'borders', 'pakistan', 'west', ';', 'china', ',', 'nepal', ',', 'bhutan', 'north', ';', 'bangladesh', 'myanmar', 'east', '.']\n"
          ],
          "name": "stdout"
        }
      ]
    },
    {
      "cell_type": "markdown",
      "metadata": {
        "id": "e3VIXe643pva"
      },
      "source": [
        "#Wordcloud"
      ]
    },
    {
      "cell_type": "code",
      "metadata": {
        "id": "LtN3V2h33EPz"
      },
      "source": [
        "from wordcloud import WordCloud"
      ],
      "execution_count": null,
      "outputs": []
    },
    {
      "cell_type": "code",
      "metadata": {
        "id": "07V31s7l3kmD"
      },
      "source": [
        "import matplotlib.pyplot as plt"
      ],
      "execution_count": null,
      "outputs": []
    },
    {
      "cell_type": "code",
      "metadata": {
        "id": "kA1pUlyY3TpE"
      },
      "source": [
        "all_words = ' '.join([t for t in stopwords])\n",
        "wordcloud = WordCloud(width=800, height=500, random_state=21, max_font_size=110).generate(all_words)\n",
        "plt.figure(figsize=(10, 7))\n",
        "plt.imshow(wordcloud, interpolation=\"bilinear\")\n",
        "plt.axis('off')\n",
        "plt.show()"
      ],
      "execution_count": null,
      "outputs": []
    },
    {
      "cell_type": "markdown",
      "metadata": {
        "id": "8uoqB2Az4dtS"
      },
      "source": [
        "#POS Tagging"
      ]
    },
    {
      "cell_type": "code",
      "metadata": {
        "id": "5OBRi4vx5AVQ",
        "outputId": "465bf98f-8be1-46d6-9a63-d815b0317f32",
        "colab": {
          "base_uri": "https://localhost:8080/",
          "height": 102
        }
      },
      "source": [
        "nltk.download('averaged_perceptron_tagger')"
      ],
      "execution_count": null,
      "outputs": [
        {
          "output_type": "stream",
          "text": [
            "[nltk_data] Downloading package averaged_perceptron_tagger to\n",
            "[nltk_data]     /root/nltk_data...\n",
            "[nltk_data]   Package averaged_perceptron_tagger is already up-to-\n",
            "[nltk_data]       date!\n"
          ],
          "name": "stdout"
        },
        {
          "output_type": "execute_result",
          "data": {
            "text/plain": [
              "True"
            ]
          },
          "metadata": {
            "tags": []
          },
          "execution_count": 96
        }
      ]
    },
    {
      "cell_type": "code",
      "metadata": {
        "id": "D0R7f3tF5LM2"
      },
      "source": [
        "text2 = word_tokenize(text)"
      ],
      "execution_count": null,
      "outputs": []
    },
    {
      "cell_type": "markdown",
      "metadata": {
        "id": "BGeJvf6ML5yq"
      },
      "source": [
        "[PoS Tags](https://www.researchgate.net/profile/Mitchell_Marcus/publication/2873803/figure/tbl1/AS:669991049392137@1536749722377/1-The-Penn-Treebank-POS-tagset.png)"
      ]
    },
    {
      "cell_type": "code",
      "metadata": {
        "id": "AuhZxqQq4geo",
        "outputId": "061e60b6-15f7-4e96-94f9-dfc057781a91",
        "colab": {
          "base_uri": "https://localhost:8080/",
          "height": 1000
        }
      },
      "source": [
        "for token in text2:\n",
        "  print(nltk.pos_tag([token]))"
      ],
      "execution_count": null,
      "outputs": [
        {
          "output_type": "stream",
          "text": [
            "[('India', 'NNP')]\n",
            "[(',', ',')]\n",
            "[('officially', 'RB')]\n",
            "[('the', 'DT')]\n",
            "[('Republic', 'JJ')]\n",
            "[('of', 'IN')]\n",
            "[('India', 'NNP')]\n",
            "[('is', 'VBZ')]\n",
            "[('a', 'DT')]\n",
            "[('country', 'NN')]\n",
            "[('in', 'IN')]\n",
            "[('South', 'NNP')]\n",
            "[('Asia', 'NN')]\n",
            "[('.', '.')]\n",
            "[('It', 'PRP')]\n",
            "[('is', 'VBZ')]\n",
            "[('the', 'DT')]\n",
            "[('second-most', 'NN')]\n",
            "[('populous', 'JJ')]\n",
            "[('country', 'NN')]\n",
            "[(',', ',')]\n",
            "[('the', 'DT')]\n",
            "[('seventh-largest', 'NN')]\n",
            "[('country', 'NN')]\n",
            "[('by', 'IN')]\n",
            "[('land', 'NN')]\n",
            "[('area', 'NN')]\n",
            "[(',', ',')]\n",
            "[('and', 'CC')]\n",
            "[('the', 'DT')]\n",
            "[('most', 'JJS')]\n",
            "[('populous', 'JJ')]\n",
            "[('democracy', 'NN')]\n",
            "[('in', 'IN')]\n",
            "[('the', 'DT')]\n",
            "[('world', 'NN')]\n",
            "[('.', '.')]\n",
            "[('Bounded', 'VBN')]\n",
            "[('by', 'IN')]\n",
            "[('the', 'DT')]\n",
            "[('Indian', 'JJ')]\n",
            "[('Ocean', 'NNP')]\n",
            "[('on', 'IN')]\n",
            "[('the', 'DT')]\n",
            "[('south', 'NN')]\n",
            "[(',', ',')]\n",
            "[('the', 'DT')]\n",
            "[('Arabian', 'JJ')]\n",
            "[('Sea', 'NNP')]\n",
            "[('on', 'IN')]\n",
            "[('the', 'DT')]\n",
            "[('southwest', 'NN')]\n",
            "[(',', ',')]\n",
            "[('and', 'CC')]\n",
            "[('the', 'DT')]\n",
            "[('Bay', 'NN')]\n",
            "[('of', 'IN')]\n",
            "[('Bengal', 'NNP')]\n",
            "[('on', 'IN')]\n",
            "[('the', 'DT')]\n",
            "[('southeast', 'NN')]\n",
            "[(',', ',')]\n",
            "[('it', 'PRP')]\n",
            "[('shares', 'NNS')]\n",
            "[('land', 'NN')]\n",
            "[('borders', 'NNS')]\n",
            "[('with', 'IN')]\n",
            "[('Pakistan', 'NN')]\n",
            "[('to', 'TO')]\n",
            "[('the', 'DT')]\n",
            "[('west', 'NN')]\n",
            "[(';', ':')]\n",
            "[('China', 'NNP')]\n",
            "[(',', ',')]\n",
            "[('Nepal', 'NN')]\n",
            "[(',', ',')]\n",
            "[('and', 'CC')]\n",
            "[('Bhutan', 'NNP')]\n",
            "[('to', 'TO')]\n",
            "[('the', 'DT')]\n",
            "[('north', 'NN')]\n",
            "[(';', ':')]\n",
            "[('and', 'CC')]\n",
            "[('Bangladesh', 'NNP')]\n",
            "[('and', 'CC')]\n",
            "[('Myanmar', 'NN')]\n",
            "[('to', 'TO')]\n",
            "[('the', 'DT')]\n",
            "[('east', 'NN')]\n",
            "[('.', '.')]\n"
          ],
          "name": "stdout"
        }
      ]
    },
    {
      "cell_type": "markdown",
      "metadata": {
        "id": "fh4jjfmM6q2s"
      },
      "source": [
        "#TF-IDF"
      ]
    },
    {
      "cell_type": "code",
      "metadata": {
        "id": "-cgBGU2O7CNB"
      },
      "source": [
        "from sklearn.feature_extraction.text import TfidfVectorizer"
      ],
      "execution_count": null,
      "outputs": []
    },
    {
      "cell_type": "code",
      "metadata": {
        "id": "94lVE5Xq7Mlw"
      },
      "source": [
        "vectorizer = TfidfVectorizer()"
      ],
      "execution_count": null,
      "outputs": []
    },
    {
      "cell_type": "code",
      "metadata": {
        "id": "PAD9i3fHMd9W"
      },
      "source": [
        "X = vectorizer.fit_transform(stopwords)"
      ],
      "execution_count": null,
      "outputs": []
    },
    {
      "cell_type": "code",
      "metadata": {
        "id": "yJUzSh38MikV",
        "outputId": "c43fd71e-4163-4973-daa0-c714ff7dd9a8",
        "colab": {
          "base_uri": "https://localhost:8080/",
          "height": 54
        }
      },
      "source": [
        "print(vectorizer.get_feature_names())"
      ],
      "execution_count": null,
      "outputs": [
        {
          "output_type": "stream",
          "text": [
            "['arabian', 'area', 'asia', 'bangladesh', 'bay', 'bengal', 'bhutan', 'borders', 'bounded', 'china', 'country', 'democracy', 'east', 'india', 'indian', 'land', 'largest', 'most', 'myanmar', 'nepal', 'north', 'ocean', 'officially', 'pakistan', 'populous', 'republic', 'sea', 'second', 'seventh', 'shares', 'south', 'southeast', 'southwest', 'west', 'world']\n"
          ],
          "name": "stdout"
        }
      ]
    },
    {
      "cell_type": "markdown",
      "metadata": {
        "id": "Rt4QMZvjNa2D"
      },
      "source": [
        "#Counter"
      ]
    },
    {
      "cell_type": "code",
      "metadata": {
        "id": "E43E5TrmL8tQ"
      },
      "source": [
        "from collections import Counter"
      ],
      "execution_count": null,
      "outputs": []
    },
    {
      "cell_type": "code",
      "metadata": {
        "id": "tGn98bmtMFPa"
      },
      "source": [
        "Counter = Counter(stopwords)"
      ],
      "execution_count": null,
      "outputs": []
    },
    {
      "cell_type": "code",
      "metadata": {
        "id": "_V6T0f79MLN7"
      },
      "source": [
        "most_occur = Counter.most_common(10) "
      ],
      "execution_count": null,
      "outputs": []
    },
    {
      "cell_type": "code",
      "metadata": {
        "id": "wAdOHxKxMPJX",
        "outputId": "1886def5-11b0-43c7-edc6-23f9bc56a3c4",
        "colab": {
          "base_uri": "https://localhost:8080/",
          "height": 187
        }
      },
      "source": [
        "most_occur"
      ],
      "execution_count": null,
      "outputs": [
        {
          "output_type": "execute_result",
          "data": {
            "text/plain": [
              "[(',', 8),\n",
              " ('country', 3),\n",
              " ('.', 3),\n",
              " ('india', 2),\n",
              " ('south', 2),\n",
              " ('populous', 2),\n",
              " ('land', 2),\n",
              " (';', 2),\n",
              " ('officially', 1),\n",
              " ('republic', 1)]"
            ]
          },
          "metadata": {
            "tags": []
          },
          "execution_count": 119
        }
      ]
    },
    {
      "cell_type": "markdown",
      "metadata": {
        "id": "Xr0r-uIDN1x5"
      },
      "source": [
        "#Named Entity Recognition (Chunking)"
      ]
    },
    {
      "cell_type": "code",
      "metadata": {
        "id": "OK1pKQnEO2iD"
      },
      "source": [
        "from nltk import ne_chunk"
      ],
      "execution_count": null,
      "outputs": []
    },
    {
      "cell_type": "code",
      "metadata": {
        "id": "iZ8TeyoDO_wC"
      },
      "source": [
        "token = word_tokenize(text)"
      ],
      "execution_count": null,
      "outputs": []
    },
    {
      "cell_type": "code",
      "metadata": {
        "id": "A7LnRrMSPDyV"
      },
      "source": [
        "tags = nltk.pos_tag(token)"
      ],
      "execution_count": null,
      "outputs": []
    },
    {
      "cell_type": "code",
      "metadata": {
        "id": "J-m0ekvNPLW5",
        "outputId": "1e37893e-11d1-4d1c-e8fc-fcbeb22a3489",
        "colab": {
          "base_uri": "https://localhost:8080/",
          "height": 119
        }
      },
      "source": [
        "nltk.download('maxent_ne_chunker')\n",
        "nltk.download('words')"
      ],
      "execution_count": null,
      "outputs": [
        {
          "output_type": "stream",
          "text": [
            "[nltk_data] Downloading package maxent_ne_chunker to\n",
            "[nltk_data]     /root/nltk_data...\n",
            "[nltk_data]   Unzipping chunkers/maxent_ne_chunker.zip.\n",
            "[nltk_data] Downloading package words to /root/nltk_data...\n",
            "[nltk_data]   Unzipping corpora/words.zip.\n"
          ],
          "name": "stdout"
        },
        {
          "output_type": "execute_result",
          "data": {
            "text/plain": [
              "True"
            ]
          },
          "metadata": {
            "tags": []
          },
          "execution_count": 123
        }
      ]
    },
    {
      "cell_type": "code",
      "metadata": {
        "id": "eA779u2tPHXf"
      },
      "source": [
        "chunk = ne_chunk(tags)"
      ],
      "execution_count": null,
      "outputs": []
    },
    {
      "cell_type": "markdown",
      "metadata": {
        "id": "L1eMZwUdM5_Z"
      },
      "source": [
        "[NER Tags](https://miro.medium.com/max/511/0*SqZbOvfNIdPsuVh3.png)"
      ]
    },
    {
      "cell_type": "code",
      "metadata": {
        "id": "YItI63-7PTiG",
        "outputId": "24bb3471-ef70-4e76-df57-00baf623fdf2",
        "colab": {
          "base_uri": "https://localhost:8080/",
          "height": 1000
        }
      },
      "source": [
        "print(chunk)"
      ],
      "execution_count": null,
      "outputs": [
        {
          "output_type": "stream",
          "text": [
            "(S\n",
            "  (GPE India/NNP)\n",
            "  ,/,\n",
            "  officially/RB\n",
            "  the/DT\n",
            "  (ORGANIZATION Republic/NNP)\n",
            "  of/IN\n",
            "  (GPE India/NNP)\n",
            "  is/VBZ\n",
            "  a/DT\n",
            "  country/NN\n",
            "  in/IN\n",
            "  (GPE South/NNP Asia/NNP)\n",
            "  ./.\n",
            "  It/PRP\n",
            "  is/VBZ\n",
            "  the/DT\n",
            "  second-most/JJ\n",
            "  populous/JJ\n",
            "  country/NN\n",
            "  ,/,\n",
            "  the/DT\n",
            "  seventh-largest/JJ\n",
            "  country/NN\n",
            "  by/IN\n",
            "  land/NN\n",
            "  area/NN\n",
            "  ,/,\n",
            "  and/CC\n",
            "  the/DT\n",
            "  most/RBS\n",
            "  populous/JJ\n",
            "  democracy/NN\n",
            "  in/IN\n",
            "  the/DT\n",
            "  world/NN\n",
            "  ./.\n",
            "  Bounded/VBN\n",
            "  by/IN\n",
            "  the/DT\n",
            "  (GPE Indian/JJ)\n",
            "  (LOCATION Ocean/NNP)\n",
            "  on/IN\n",
            "  the/DT\n",
            "  south/NN\n",
            "  ,/,\n",
            "  the/DT\n",
            "  (PERSON Arabian/NNP Sea/NNP)\n",
            "  on/IN\n",
            "  the/DT\n",
            "  southwest/NN\n",
            "  ,/,\n",
            "  and/CC\n",
            "  the/DT\n",
            "  (ORGANIZATION Bay/NNP)\n",
            "  of/IN\n",
            "  (GPE Bengal/NNP)\n",
            "  on/IN\n",
            "  the/DT\n",
            "  southeast/NN\n",
            "  ,/,\n",
            "  it/PRP\n",
            "  shares/NNS\n",
            "  land/VBZ\n",
            "  borders/NNS\n",
            "  with/IN\n",
            "  (GPE Pakistan/NNP)\n",
            "  to/TO\n",
            "  the/DT\n",
            "  west/NN\n",
            "  ;/:\n",
            "  (GPE China/NNP)\n",
            "  ,/,\n",
            "  (PERSON Nepal/NNP)\n",
            "  ,/,\n",
            "  and/CC\n",
            "  (GPE Bhutan/NNP)\n",
            "  to/TO\n",
            "  the/DT\n",
            "  north/NN\n",
            "  ;/:\n",
            "  and/CC\n",
            "  (ORGANIZATION Bangladesh/NNP)\n",
            "  and/CC\n",
            "  (PERSON Myanmar/NNP)\n",
            "  to/TO\n",
            "  the/DT\n",
            "  east/NN\n",
            "  ./.)\n"
          ],
          "name": "stdout"
        }
      ]
    }
  ]
}